{
  "nbformat": 4,
  "nbformat_minor": 0,
  "metadata": {
    "colab": {
      "provenance": [],
      "authorship_tag": "ABX9TyMy/gpzdVgy9p19WH6rp3Wd",
      "include_colab_link": true
    },
    "kernelspec": {
      "name": "python3",
      "display_name": "Python 3"
    },
    "language_info": {
      "name": "python"
    }
  },
  "cells": [
    {
      "cell_type": "markdown",
      "metadata": {
        "id": "view-in-github",
        "colab_type": "text"
      },
      "source": [
        "<a href=\"https://colab.research.google.com/github/Quantzaar/Strategy/blob/main/Momentum_20MA_50MA.ipynb\" target=\"_parent\"><img src=\"https://colab.research.google.com/assets/colab-badge.svg\" alt=\"Open In Colab\"/></a>"
      ]
    },
    {
      "cell_type": "code",
      "execution_count": 22,
      "metadata": {
        "colab": {
          "base_uri": "https://localhost:8080/"
        },
        "id": "03vmJW-CL8hl",
        "outputId": "94da84f2-d9d6-43ce-f62d-502ae6f1ad2c"
      },
      "outputs": [
        {
          "output_type": "stream",
          "name": "stderr",
          "text": [
            "[*********************100%%**********************]  1 of 1 completed\n",
            "[*********************100%%**********************]  1 of 1 completed\n",
            "[*********************100%%**********************]  1 of 1 completed\n",
            "[*********************100%%**********************]  1 of 1 completed\n",
            "[*********************100%%**********************]  1 of 1 completed\n",
            "[*********************100%%**********************]  1 of 1 completed\n",
            "[*********************100%%**********************]  1 of 1 completed\n",
            "[*********************100%%**********************]  1 of 1 completed\n",
            "[*********************100%%**********************]  1 of 1 completed\n",
            "[*********************100%%**********************]  1 of 1 completed\n",
            "[*********************100%%**********************]  1 of 1 completed\n",
            "[*********************100%%**********************]  1 of 1 completed\n",
            "[*********************100%%**********************]  1 of 1 completed\n",
            "[*********************100%%**********************]  1 of 1 completed\n",
            "[*********************100%%**********************]  1 of 1 completed\n",
            "[*********************100%%**********************]  1 of 1 completed\n",
            "[*********************100%%**********************]  1 of 1 completed\n",
            "[*********************100%%**********************]  1 of 1 completed\n",
            "[*********************100%%**********************]  1 of 1 completed\n",
            "[*********************100%%**********************]  1 of 1 completed\n",
            "[*********************100%%**********************]  1 of 1 completed\n",
            "[*********************100%%**********************]  1 of 1 completed\n",
            "[*********************100%%**********************]  1 of 1 completed\n",
            "[*********************100%%**********************]  1 of 1 completed\n",
            "[*********************100%%**********************]  1 of 1 completed\n",
            "[*********************100%%**********************]  1 of 1 completed\n",
            "[*********************100%%**********************]  1 of 1 completed\n",
            "[*********************100%%**********************]  1 of 1 completed\n",
            "[*********************100%%**********************]  1 of 1 completed\n",
            "[*********************100%%**********************]  1 of 1 completed\n",
            "[*********************100%%**********************]  1 of 1 completed\n",
            "[*********************100%%**********************]  1 of 1 completed\n",
            "[*********************100%%**********************]  1 of 1 completed\n",
            "[*********************100%%**********************]  1 of 1 completed\n",
            "[*********************100%%**********************]  1 of 1 completed\n",
            "[*********************100%%**********************]  1 of 1 completed\n",
            "[*********************100%%**********************]  1 of 1 completed\n",
            "[*********************100%%**********************]  1 of 1 completed\n",
            "[*********************100%%**********************]  1 of 1 completed\n",
            "[*********************100%%**********************]  1 of 1 completed\n",
            "[*********************100%%**********************]  1 of 1 completed\n",
            "[*********************100%%**********************]  1 of 1 completed\n",
            "[*********************100%%**********************]  1 of 1 completed\n",
            "[*********************100%%**********************]  1 of 1 completed\n",
            "[*********************100%%**********************]  1 of 1 completed\n",
            "[*********************100%%**********************]  1 of 1 completed\n",
            "[*********************100%%**********************]  1 of 1 completed\n",
            "[*********************100%%**********************]  1 of 1 completed\n",
            "[*********************100%%**********************]  1 of 1 completed\n",
            "[*********************100%%**********************]  1 of 1 completed\n"
          ]
        },
        {
          "output_type": "stream",
          "name": "stdout",
          "text": [
            "Top 10 Momentum Stocks:\n",
            "            Stock  Momentum_Score  Price_Change\n",
            "2     AXISBANK.NS               1      0.102037\n",
            "35   POWERGRID.NS               1      0.101441\n",
            "38        SBIN.NS               1      0.090759\n",
            "13   EICHERMOT.NS               1      0.089599\n",
            "6   BHARTIARTL.NS               1      0.079825\n",
            "14      GRASIM.NS               1      0.077881\n",
            "11    DIVISLAB.NS               1      0.076913\n",
            "22   ICICIBANK.NS               1      0.066815\n",
            "20    HINDALCO.NS               1      0.051738\n",
            "30         M&M.NS               1      0.050111\n"
          ]
        }
      ],
      "source": [
        "import yfinance as yf\n",
        "import pandas as pd\n",
        "\n",
        "# List of Nifty 50 stocks\n",
        "nifty50_stocks = [\"ADANIPORTS.NS\", \"ASIANPAINT.NS\", \"AXISBANK.NS\", \"BAJAJ-AUTO.NS\", \"BAJAJFINSV.NS\",\n",
        "                  \"BAJFINANCE.NS\", \"BHARTIARTL.NS\", \"BPCL.NS\", \"BRITANNIA.NS\", \"CIPLA.NS\", \"COALINDIA.NS\",\n",
        "                  \"DIVISLAB.NS\", \"DRREDDY.NS\", \"EICHERMOT.NS\", \"GRASIM.NS\", \"HCLTECH.NS\", \"LICI.NS\",\n",
        "                  \"HDFCBANK.NS\", \"HDFCLIFE.NS\", \"HEROMOTOCO.NS\", \"HINDALCO.NS\", \"HINDUNILVR.NS\",\n",
        "                  \"ICICIBANK.NS\", \"INDUSINDBK.NS\", \"INFY.NS\", \"IOC.NS\", \"ITC.NS\", \"JSWSTEEL.NS\",\n",
        "                  \"KOTAKBANK.NS\", \"LT.NS\", \"M&M.NS\", \"MARUTI.NS\", \"NESTLEIND.NS\", \"NTPC.NS\", \"ONGC.NS\",\n",
        "                  \"POWERGRID.NS\", \"RELIANCE.NS\", \"SBILIFE.NS\", \"SBIN.NS\", \"SHREECEM.NS\", \"SUNPHARMA.NS\",\n",
        "                  \"TATACONSUM.NS\", \"TATAMOTORS.NS\", \"TATASTEEL.NS\", \"TCS.NS\", \"TECHM.NS\", \"TITAN.NS\",\n",
        "                  \"ULTRACEMCO.NS\", \"UPL.NS\", \"WIPRO.NS\"]\n",
        "\n",
        "# Function to calculate momentum\n",
        "def calculate_momentum(stock_data):\n",
        "    # Calculate momentum using 20-day and 50-day moving averages\n",
        "    stock_data['20_MA'] = stock_data['Close'].rolling(window=20).mean()\n",
        "    stock_data['50_MA'] = stock_data['Close'].rolling(window=50).mean()\n",
        "\n",
        "    # Check if 20-day moving average is greater than 50-day moving average\n",
        "    stock_data['Signal'] = stock_data['20_MA'] > stock_data['50_MA']\n",
        "\n",
        "    # Calculate momentum score\n",
        "    stock_data['Momentum_Score'] = stock_data['Signal'].astype(int)\n",
        "\n",
        "    # Calculate the change in price over the last 10 days\n",
        "    stock_data['Price_Change'] = stock_data['Close'].pct_change(periods=10)\n",
        "\n",
        "    return stock_data\n",
        "\n",
        "# Fetch data for each stock and calculate momentum\n",
        "momentum_data = []\n",
        "for stock in nifty50_stocks:\n",
        "    try:\n",
        "        stock_data = yf.download(stock, start=\"2022-01-01\", end=\"2024-05-01\")\n",
        "        stock_data = calculate_momentum(stock_data)\n",
        "        momentum_score = stock_data['Momentum_Score'][-1]  # Get momentum score for the last date\n",
        "        price_change = stock_data['Price_Change'][-1] # get price change for the last date\n",
        "        momentum_data.append({'Stock': stock, 'Momentum_Score': momentum_score, 'Price_Change': price_change})\n",
        "    except Exception as e:\n",
        "        print(f\"Error fetching data for {stock}: {e}\")\n",
        "\n",
        "# Create DataFrame from momentum data\n",
        "momentum_df = pd.DataFrame(momentum_data)\n",
        "\n",
        "# Sort stocks based on momentum score and price change\n",
        "momentum_df = momentum_df.sort_values(by=['Momentum_Score', 'Price_Change'], ascending=False)\n",
        "\n",
        "# Select top 10 momentum stocks\n",
        "top_10_momentum_stocks = momentum_df.head(10)\n",
        "\n",
        "print(\"Top 10 Momentum Stocks:\")\n",
        "print(top_10_momentum_stocks)"
      ]
    },
    {
      "cell_type": "code",
      "source": [
        "print(momentum_df)"
      ],
      "metadata": {
        "colab": {
          "base_uri": "https://localhost:8080/"
        },
        "id": "15R6uG8MSMvS",
        "outputId": "adcbe4fc-7754-490e-f2ba-8f74823843e1"
      },
      "execution_count": 23,
      "outputs": [
        {
          "output_type": "stream",
          "name": "stdout",
          "text": [
            "            Stock  Momentum_Score  Price_Change\n",
            "2     AXISBANK.NS               1      0.102037\n",
            "35   POWERGRID.NS               1      0.101441\n",
            "38        SBIN.NS               1      0.090759\n",
            "13   EICHERMOT.NS               1      0.089599\n",
            "6   BHARTIARTL.NS               1      0.079825\n",
            "14      GRASIM.NS               1      0.077881\n",
            "11    DIVISLAB.NS               1      0.076913\n",
            "22   ICICIBANK.NS               1      0.066815\n",
            "20    HINDALCO.NS               1      0.051738\n",
            "30         M&M.NS               1      0.050111\n",
            "48         UPL.NS               1      0.035106\n",
            "31      MARUTI.NS               1      0.031768\n",
            "43   TATASTEEL.NS               1      0.025800\n",
            "27    JSWSTEEL.NS               1      0.025277\n",
            "26         ITC.NS               1      0.022893\n",
            "17    HDFCBANK.NS               1      0.016993\n",
            "34        ONGC.NS               1      0.010720\n",
            "42  TATAMOTORS.NS               1      0.009111\n",
            "10   COALINDIA.NS               1      0.007317\n",
            "0   ADANIPORTS.NS               1      0.007107\n",
            "33        NTPC.NS               1      0.005676\n",
            "36    RELIANCE.NS               1      0.001485\n",
            "29          LT.NS               1     -0.001805\n",
            "3   BAJAJ-AUTO.NS               1     -0.010381\n",
            "23  INDUSINDBK.NS               1     -0.015715\n",
            "5   BAJFINANCE.NS               1     -0.021579\n",
            "4   BAJAJFINSV.NS               1     -0.025259\n",
            "18    HDFCLIFE.NS               1     -0.047802\n",
            "28   KOTAKBANK.NS               1     -0.096877\n",
            "47  ULTRACEMCO.NS               0      0.048978\n",
            "19  HEROMOTOCO.NS               0      0.036942\n",
            "45       TECHM.NS               0      0.036718\n",
            "12     DRREDDY.NS               0      0.032183\n",
            "7         BPCL.NS               0      0.030192\n",
            "16        LICI.NS               0      0.017368\n",
            "21  HINDUNILVR.NS               0      0.016590\n",
            "25         IOC.NS               0      0.014724\n",
            "9        CIPLA.NS               0      0.013465\n",
            "1   ASIANPAINT.NS               0      0.011074\n",
            "49       WIPRO.NS               0      0.006640\n",
            "8    BRITANNIA.NS               0      0.002951\n",
            "46       TITAN.NS               0     -0.003152\n",
            "32   NESTLEIND.NS               0     -0.018111\n",
            "41  TATACONSUM.NS               0     -0.019723\n",
            "37     SBILIFE.NS               0     -0.020690\n",
            "40   SUNPHARMA.NS               0     -0.024642\n",
            "44         TCS.NS               0     -0.030587\n",
            "24        INFY.NS               0     -0.032422\n",
            "39    SHREECEM.NS               0     -0.033655\n",
            "15     HCLTECH.NS               0     -0.091990\n"
          ]
        }
      ]
    }
  ]
}