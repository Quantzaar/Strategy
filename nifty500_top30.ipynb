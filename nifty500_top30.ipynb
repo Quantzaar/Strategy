{
  "nbformat": 4,
  "nbformat_minor": 0,
  "metadata": {
    "colab": {
      "provenance": [],
      "authorship_tag": "ABX9TyMAerdUDoR7g3i6tvfydoep",
      "include_colab_link": true
    },
    "kernelspec": {
      "name": "python3",
      "display_name": "Python 3"
    },
    "language_info": {
      "name": "python"
    }
  },
  "cells": [
    {
      "cell_type": "markdown",
      "metadata": {
        "id": "view-in-github",
        "colab_type": "text"
      },
      "source": [
        "<a href=\"https://colab.research.google.com/github/Quantzaar/Strategy/blob/main/nifty500_top30.ipynb\" target=\"_parent\"><img src=\"https://colab.research.google.com/assets/colab-badge.svg\" alt=\"Open In Colab\"/></a>"
      ]
    },
    {
      "cell_type": "code",
      "source": [
        "#find top 10/30 based on\n",
        "#anytime\n",
        "#weekly basis\n",
        "#monthly basis\n",
        "\n",
        "#find avg. holding period of stock\n",
        "#find avg. return of stock\n",
        "#find avg. negative return of stock\n",
        "#find max +ve/-ve return of stock"
      ],
      "metadata": {
        "id": "JFCj78oFIwpf"
      },
      "execution_count": null,
      "outputs": []
    },
    {
      "cell_type": "code",
      "source": [
        "from google.colab import drive\n",
        "drive.mount('/content/drive')"
      ],
      "metadata": {
        "colab": {
          "base_uri": "https://localhost:8080/"
        },
        "id": "CWfispkRJJ8H",
        "outputId": "79ba96c5-b5d9-4eba-e00f-fe2b9036b94a"
      },
      "execution_count": 2,
      "outputs": [
        {
          "output_type": "stream",
          "name": "stdout",
          "text": [
            "Mounted at /content/drive\n"
          ]
        }
      ]
    },
    {
      "cell_type": "code",
      "source": [
        "import pandas as pd\n",
        "\n",
        "filepath = r\"/content/drive/MyDrive/Quantzaar-tradingS, InvestmentS, Trade&investMyTheory/Backtesting/ind_nifty500list.csv\"\n",
        "\n",
        "df=pd.read_csv(filepath)"
      ],
      "metadata": {
        "id": "nbb7uxIUJMj-"
      },
      "execution_count": 3,
      "outputs": []
    },
    {
      "cell_type": "code",
      "execution_count": 4,
      "metadata": {
        "id": "Z_qQkZUguqFc",
        "colab": {
          "base_uri": "https://localhost:8080/"
        },
        "outputId": "34c9a3d2-dd48-40c3-9271-7acfd2d1f51f"
      },
      "outputs": [
        {
          "output_type": "stream",
          "name": "stdout",
          "text": [
            "0          360ONE.NS\n",
            "1         3MINDIA.NS\n",
            "2             ABB.NS\n",
            "3             ACC.NS\n",
            "4          AIAENG.NS\n",
            "           ...      \n",
            "498          ZEEL.NS\n",
            "499    ZENSARTECH.NS\n",
            "500        ZOMATO.NS\n",
            "501     ZYDUSLIFE.NS\n",
            "502        ECLERX.NS\n",
            "Name: Symbol, Length: 503, dtype: object\n"
          ]
        }
      ],
      "source": [
        "import yfinance as yf\n",
        "import pandas as pd\n",
        "\n",
        "stocks = df.Symbol + '.NS'\n",
        "print(stocks)"
      ]
    },
    {
      "cell_type": "code",
      "source": [
        "# Download historical data\n",
        "df = yf.download(stocks.to_list(), start='2022-08-01')\n",
        "df_close = df['Adj Close']\n",
        "df_dret = df_close.pct_change()\n",
        "df_wret = (df_dret + 1).resample('W').prod() - 1\n",
        "df_mret = (df_dret + 1).resample('M').prod() - 1\n"
      ],
      "metadata": {
        "colab": {
          "base_uri": "https://localhost:8080/"
        },
        "id": "L1OuTVxrMXKc",
        "outputId": "ac4d80d3-9377-42a1-878a-7f7ac32325d6"
      },
      "execution_count": 5,
      "outputs": [
        {
          "output_type": "stream",
          "name": "stderr",
          "text": [
            "[*********************100%***********************]  503 of 503 completed\n",
            "ERROR:yfinance:\n",
            "2 Failed downloads:\n",
            "ERROR:yfinance:['DUMMYSANOF.NS', 'DUMMYRAYMD.NS']: YFTzMissingError('$%ticker%: possibly delisted; no timezone found')\n",
            "<ipython-input-5-b581e93ae044>:4: FutureWarning: The default fill_method='pad' in DataFrame.pct_change is deprecated and will be removed in a future version. Either fill in any non-leading NA values prior to calling pct_change or specify 'fill_method=None' to not fill NA values.\n",
            "  df_dret = df_close.pct_change()\n"
          ]
        }
      ]
    },
    {
      "cell_type": "code",
      "source": [
        "# Calculate 12-month rolling returns\n",
        "df_mret_12 = df_mret.rolling(12).apply(lambda x: (x + 1).prod() - 1).dropna()\n",
        "# print('month wise : \\n',df_mret_12.iloc[:,0])\n",
        "\n",
        "# Calculate 55 weeks rolling return\n",
        "df_wret_55 = df_wret.rolling(55).apply(lambda x: (x + 1).prod() - 1).dropna()\n",
        "# print('week wise :\\n',df_wret_55.iloc[:,0])\n",
        "\n",
        "# Calculate 252-days rolling return\n",
        "df_dret_252 = df_dret.rolling(252).apply(lambda x: (x + 1).prod() - 1)\n",
        "# print('day wise :\\n',df_dret_252.iloc[:,0:2])"
      ],
      "metadata": {
        "id": "AqKLEQAXOQRC"
      },
      "execution_count": 6,
      "outputs": []
    },
    {
      "cell_type": "code",
      "source": [
        "m_top10 = df_mret_12.iloc[-2:].apply(lambda row: row.nlargest(10), axis=1)\n",
        "print('top 10 with date ',m_top10.index[0],'\\n')\n",
        "print(m_top10.iloc[0].sort_values(ascending=False).dropna(axis=0))\n",
        "print('top 10 with date ',m_top10.index[1],'\\n')\n",
        "print(m_top10.iloc[1].sort_values(ascending=False).dropna(axis=0))"
      ],
      "metadata": {
        "colab": {
          "base_uri": "https://localhost:8080/"
        },
        "id": "8l8wDtmES7U9",
        "outputId": "8314cac4-4e0d-42fe-bf14-0eaaf6b88cca",
        "collapsed": true
      },
      "execution_count": null,
      "outputs": [
        {
          "output_type": "stream",
          "name": "stdout",
          "text": [
            "top 10 with date  2024-08-31 00:00:00+00:00 \n",
            "\n",
            "Ticker\n",
            "RVNL.NS          3.644985\n",
            "OIL.NS           3.195041\n",
            "IRFC.NS          2.656223\n",
            "TRENT.NS         2.496857\n",
            "SUZLON.NS        2.089206\n",
            "PRESTIGE.NS      1.821627\n",
            "OFSS.NS          1.758323\n",
            "PFC.NS           1.749754\n",
            "RECLTD.NS        1.693551\n",
            "TORNTPOWER.NS    1.687481\n",
            "Name: 2024-08-31 00:00:00+00:00, dtype: float64\n",
            "top 10 with date  2024-09-30 00:00:00+00:00 \n",
            "\n",
            "Ticker\n",
            "OIL.NS           2.529636\n",
            "RVNL.NS          2.497787\n",
            "TRENT.NS         2.434752\n",
            "PRESTIGE.NS      2.100979\n",
            "KALYANKJIL.NS    1.881417\n",
            "SUZLON.NS        1.874419\n",
            "OFSS.NS          1.816325\n",
            "HINDPETRO.NS     1.772545\n",
            "BDL.NS           1.586549\n",
            "HAL.NS           1.553922\n",
            "Name: 2024-09-30 00:00:00+00:00, dtype: float64\n"
          ]
        }
      ]
    },
    {
      "cell_type": "code",
      "source": [
        "w_top10 = df_wret_55.iloc[-2:].apply(lambda row: row.nlargest(10), axis=1)\n",
        "print('top 10 with date ',w_top10.index[0],'\\n')\n",
        "print(w_top10.iloc[0].sort_values(ascending=False).dropna(axis=0))\n",
        "print('top 10 with date ',w_top10.index[1],'\\n')\n",
        "print(w_top10.iloc[1].sort_values(ascending=False).dropna(axis=0))"
      ],
      "metadata": {
        "colab": {
          "base_uri": "https://localhost:8080/"
        },
        "id": "-Kq41gyITAy2",
        "outputId": "f3ab4572-b9af-4f62-ab6d-248ba6cafd21",
        "collapsed": true
      },
      "execution_count": null,
      "outputs": [
        {
          "output_type": "stream",
          "name": "stdout",
          "text": [
            "top 10 with date  2024-09-01 00:00:00+00:00 \n",
            "\n",
            "Ticker\n",
            "RVNL.NS          3.827322\n",
            "OIL.NS           3.196409\n",
            "TRENT.NS         2.798739\n",
            "SUZLON.NS        2.754455\n",
            "IRFC.NS          2.753423\n",
            "PRESTIGE.NS      2.259304\n",
            "BSE.NS           2.170374\n",
            "KALYANKJIL.NS    2.046339\n",
            "RECLTD.NS        1.904726\n",
            "OFSS.NS          1.863475\n",
            "Name: 2024-09-01 00:00:00+00:00, dtype: float64\n",
            "top 10 with date  2024-09-08 00:00:00+00:00 \n",
            "\n",
            "Ticker\n",
            "RVNL.NS          3.835110\n",
            "IRFC.NS          2.827952\n",
            "SUZLON.NS        2.745455\n",
            "OIL.NS           2.729034\n",
            "TRENT.NS         2.619452\n",
            "PRESTIGE.NS      2.351558\n",
            "BSE.NS           2.212461\n",
            "KALYANKJIL.NS    2.055295\n",
            "OFSS.NS          1.896508\n",
            "BHEL.NS          1.846267\n",
            "Name: 2024-09-08 00:00:00+00:00, dtype: float64\n"
          ]
        }
      ]
    },
    {
      "cell_type": "code",
      "source": [
        "d_top10 = df_dret_252.iloc[-2:].apply(lambda row: row.nlargest(10), axis=1)\n",
        "print('top 10 with date ',d_top10.index[0],'\\n')\n",
        "print(d_top10.iloc[0].sort_values(ascending=False).dropna(axis=0))\n",
        "print('top 10 with date ',d_top10.index[1],'\\n')\n",
        "print(d_top10.iloc[1].sort_values(ascending=False).dropna(axis=0))"
      ],
      "metadata": {
        "colab": {
          "base_uri": "https://localhost:8080/"
        },
        "id": "Sa7ItXdXVMzS",
        "outputId": "8e9ae950-f4de-48b2-82d5-e47af08dfeed",
        "collapsed": true
      },
      "execution_count": null,
      "outputs": [
        {
          "output_type": "stream",
          "name": "stdout",
          "text": [
            "top 10 with date  2024-09-03 00:00:00+00:00 \n",
            "\n",
            "Ticker\n",
            "RVNL.NS          3.831876\n",
            "OIL.NS           2.948807\n",
            "IRFC.NS          2.832351\n",
            "SUZLON.NS        2.571703\n",
            "TRENT.NS         2.475421\n",
            "PRESTIGE.NS      2.172873\n",
            "BSE.NS           2.054269\n",
            "OFSS.NS          1.987125\n",
            "KALYANKJIL.NS    1.917302\n",
            "RECLTD.NS        1.738935\n",
            "Name: 2024-09-03 00:00:00+00:00, dtype: float64\n",
            "top 10 with date  2024-09-04 00:00:00+00:00 \n",
            "\n",
            "Ticker\n",
            "RVNL.NS          3.767201\n",
            "IRFC.NS          2.787869\n",
            "OIL.NS           2.695711\n",
            "TRENT.NS         2.483653\n",
            "SUZLON.NS        2.394050\n",
            "PRESTIGE.NS      2.280535\n",
            "BSE.NS           2.037721\n",
            "KALYANKJIL.NS    1.946815\n",
            "OFSS.NS          1.925344\n",
            "HINDPETRO.NS     1.718693\n",
            "Name: 2024-09-04 00:00:00+00:00, dtype: float64\n"
          ]
        }
      ]
    },
    {
      "cell_type": "code",
      "source": [
        "m_top30 = df_mret_12.iloc[-2:].apply(lambda row: row.nlargest(30), axis=1)\n",
        "print('top 30 on date ',m_top30.index[0],'\\n')\n",
        "print(m_top30.iloc[0].sort_values(ascending=False).dropna(axis=0))\n",
        "print('top 30 on date ',m_top30.index[1],'\\n')\n",
        "print(m_top30.iloc[1].sort_values(ascending=False).dropna(axis=0))\n",
        "\n",
        "w_top30 = df_wret_55.iloc[-2:].apply(lambda row: row.nlargest(30), axis=1)\n",
        "print('top 30 on date ',w_top30.index[0],'\\n')\n",
        "print(w_top30.iloc[0].sort_values(ascending=False).dropna(axis=0))\n",
        "print('top 30 on date ',w_top30.index[1],'\\n')\n",
        "print(w_top30.iloc[1].sort_values(ascending=False).dropna(axis=0))"
      ],
      "metadata": {
        "colab": {
          "base_uri": "https://localhost:8080/"
        },
        "id": "ZDHaB-vumN_j",
        "outputId": "f2035c14-fa64-4abb-df06-e3c9f5503db1"
      },
      "execution_count": 7,
      "outputs": [
        {
          "output_type": "stream",
          "name": "stdout",
          "text": [
            "top 30 on date  2024-08-31 00:00:00+00:00 \n",
            "\n",
            "Ticker\n",
            "RVNL.NS          3.644985\n",
            "INOXWIND.NS      3.334428\n",
            "COCHINSHIP.NS    3.225819\n",
            "OIL.NS           3.195041\n",
            "HUDCO.NS         2.933224\n",
            "NBCC.NS          2.660773\n",
            "IRFC.NS          2.656223\n",
            "TRENT.NS         2.496857\n",
            "JAIBALAJI.NS     2.372295\n",
            "SIGNATURE.NS     2.279795\n",
            "MCX.NS           2.103304\n",
            "SUZLON.NS        2.089206\n",
            "GODFRYPHLP.NS    2.055796\n",
            "TATAINVEST.NS    2.000543\n",
            "PCBL.NS          1.852812\n",
            "PRESTIGE.NS      1.821627\n",
            "SOBHA.NS         1.772960\n",
            "OFSS.NS          1.758323\n",
            "PFC.NS           1.749754\n",
            "POWERINDIA.NS    1.749248\n",
            "RECLTD.NS        1.693551\n",
            "TORNTPOWER.NS    1.687481\n",
            "ANANDRATHI.NS    1.686383\n",
            "HINDPETRO.NS     1.682347\n",
            "BSE.NS           1.680089\n",
            "DIXON.NS         1.633793\n",
            "INDUSTOWER.NS    1.617009\n",
            "ZOMATO.NS        1.566906\n",
            "ITI.NS           1.542762\n",
            "CDSL.NS          1.540853\n",
            "Name: 2024-08-31 00:00:00+00:00, dtype: float64\n",
            "top 30 on date  2024-09-30 00:00:00+00:00 \n",
            "\n",
            "Ticker\n",
            "INOXWIND.NS      3.680238\n",
            "COCHINSHIP.NS    2.469592\n",
            "TRENT.NS         2.417265\n",
            "RVNL.NS          2.361168\n",
            "GODFRYPHLP.NS    2.342474\n",
            "OIL.NS           2.243540\n",
            "NBCC.NS          2.065460\n",
            "PRESTIGE.NS      2.018586\n",
            "SIGNATURE.NS     2.008059\n",
            "SUZLON.NS        1.896124\n",
            "PCBL.NS          1.876042\n",
            "KALYANKJIL.NS    1.854990\n",
            "POWERINDIA.NS    1.835881\n",
            "HUDCO.NS         1.790363\n",
            "NUVAMA.NS        1.755527\n",
            "OFSS.NS          1.721929\n",
            "HINDPETRO.NS     1.705894\n",
            "MCX.NS           1.623335\n",
            "ZOMATO.NS        1.561084\n",
            "JAIBALAJI.NS     1.542058\n",
            "BDL.NS           1.513655\n",
            "HAL.NS           1.470715\n",
            "SOBHA.NS         1.427420\n",
            "ANANDRATHI.NS    1.343070\n",
            "BRIGADE.NS       1.326006\n",
            "TORNTPOWER.NS    1.323825\n",
            "HBLPOWER.NS      1.292619\n",
            "SOLARINDS.NS     1.290669\n",
            "DIXON.NS         1.280824\n",
            "IRFC.NS          1.260314\n",
            "Name: 2024-09-30 00:00:00+00:00, dtype: float64\n",
            "top 30 on date  2024-09-01 00:00:00+00:00 \n",
            "\n",
            "Ticker\n",
            "COCHINSHIP.NS    4.926027\n",
            "RVNL.NS          3.827322\n",
            "HUDCO.NS         3.374142\n",
            "INOXWIND.NS      3.224695\n",
            "OIL.NS           3.196408\n",
            "JAIBALAJI.NS     3.101215\n",
            "NBCC.NS          2.863524\n",
            "TRENT.NS         2.798739\n",
            "SUZLON.NS        2.754455\n",
            "IRFC.NS          2.753423\n",
            "MCX.NS           2.326235\n",
            "SIGNATURE.NS     2.279795\n",
            "PRESTIGE.NS      2.259304\n",
            "BSE.NS           2.170374\n",
            "HSCL.NS          2.168237\n",
            "PCBL.NS          2.152014\n",
            "GRSE.NS          2.142843\n",
            "GODFRYPHLP.NS    2.061345\n",
            "KALYANKJIL.NS    2.046339\n",
            "SOBHA.NS         1.980761\n",
            "TATAINVEST.NS    1.927462\n",
            "RAILTEL.NS       1.911208\n",
            "RECLTD.NS        1.904727\n",
            "OFSS.NS          1.863475\n",
            "BHEL.NS          1.821873\n",
            "HBLPOWER.NS      1.813570\n",
            "TORNTPOWER.NS    1.758878\n",
            "DIXON.NS         1.756818\n",
            "KAYNES.NS        1.744767\n",
            "POWERINDIA.NS    1.742954\n",
            "Name: 2024-09-01 00:00:00+00:00, dtype: float64\n",
            "top 30 on date  2024-09-08 00:00:00+00:00 \n",
            "\n",
            "Ticker\n",
            "JAIBALAJI.NS     3.843231\n",
            "INOXWIND.NS      3.752867\n",
            "RVNL.NS          3.646257\n",
            "COCHINSHIP.NS    3.476851\n",
            "NBCC.NS          2.827488\n",
            "SUZLON.NS        2.773738\n",
            "IRFC.NS          2.693771\n",
            "HUDCO.NS         2.621574\n",
            "TRENT.NS         2.601025\n",
            "MCX.NS           2.507010\n",
            "OIL.NS           2.426776\n",
            "GODFRYPHLP.NS    2.314391\n",
            "BSE.NS           2.286826\n",
            "PRESTIGE.NS      2.262507\n",
            "HSCL.NS          2.177162\n",
            "PCBL.NS          2.153555\n",
            "SIGNATURE.NS     2.134009\n",
            "KALYANKJIL.NS    2.027274\n",
            "SOBHA.NS         1.953801\n",
            "RAILTEL.NS       1.912485\n",
            "ZOMATO.NS        1.909345\n",
            "TATAINVEST.NS    1.852898\n",
            "ANANDRATHI.NS    1.829291\n",
            "OFSS.NS          1.799425\n",
            "POWERINDIA.NS    1.727644\n",
            "TORNTPOWER.NS    1.724256\n",
            "CHENNPETRO.NS    1.716811\n",
            "BHEL.NS          1.694098\n",
            "KAYNES.NS        1.688649\n",
            "RECLTD.NS        1.685098\n",
            "Name: 2024-09-08 00:00:00+00:00, dtype: float64\n"
          ]
        }
      ]
    }
  ]
}