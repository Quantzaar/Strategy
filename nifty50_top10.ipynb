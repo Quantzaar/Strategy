{
  "nbformat": 4,
  "nbformat_minor": 0,
  "metadata": {
    "colab": {
      "provenance": [],
      "authorship_tag": "ABX9TyNINw+tQgTRc3XhALoN7fl9",
      "include_colab_link": true
    },
    "kernelspec": {
      "name": "python3",
      "display_name": "Python 3"
    },
    "language_info": {
      "name": "python"
    }
  },
  "cells": [
    {
      "cell_type": "markdown",
      "metadata": {
        "id": "view-in-github",
        "colab_type": "text"
      },
      "source": [
        "<a href=\"https://colab.research.google.com/github/Quantzaar/Strategy/blob/main/nifty50_top10.ipynb\" target=\"_parent\"><img src=\"https://colab.research.google.com/assets/colab-badge.svg\" alt=\"Open In Colab\"/></a>"
      ]
    },
    {
      "cell_type": "code",
      "execution_count": 6,
      "metadata": {
        "colab": {
          "base_uri": "https://localhost:8080/"
        },
        "id": "ETWvp9vEuhqV",
        "outputId": "3267f0fb-0392-4122-8444-0e1de68d6fc5"
      },
      "outputs": [
        {
          "output_type": "stream",
          "name": "stderr",
          "text": [
            "[*********************100%%**********************]  1 of 1 completed\n",
            "[*********************100%%**********************]  1 of 1 completed\n",
            "[*********************100%%**********************]  1 of 1 completed\n",
            "[*********************100%%**********************]  1 of 1 completed\n",
            "[*********************100%%**********************]  1 of 1 completed\n",
            "[*********************100%%**********************]  1 of 1 completed\n",
            "[*********************100%%**********************]  1 of 1 completed\n",
            "[*********************100%%**********************]  1 of 1 completed\n",
            "[*********************100%%**********************]  1 of 1 completed\n",
            "[*********************100%%**********************]  1 of 1 completed\n",
            "[*********************100%%**********************]  1 of 1 completed\n",
            "[*********************100%%**********************]  1 of 1 completed\n",
            "[*********************100%%**********************]  1 of 1 completed\n",
            "[*********************100%%**********************]  1 of 1 completed\n",
            "[*********************100%%**********************]  1 of 1 completed\n",
            "[*********************100%%**********************]  1 of 1 completed\n",
            "[*********************100%%**********************]  1 of 1 completed\n",
            "[*********************100%%**********************]  1 of 1 completed\n",
            "[*********************100%%**********************]  1 of 1 completed\n",
            "[*********************100%%**********************]  1 of 1 completed\n",
            "[*********************100%%**********************]  1 of 1 completed\n",
            "[*********************100%%**********************]  1 of 1 completed\n",
            "[*********************100%%**********************]  1 of 1 completed\n",
            "[*********************100%%**********************]  1 of 1 completed\n",
            "[*********************100%%**********************]  1 of 1 completed\n",
            "[*********************100%%**********************]  1 of 1 completed\n",
            "[*********************100%%**********************]  1 of 1 completed\n",
            "[*********************100%%**********************]  1 of 1 completed\n",
            "[*********************100%%**********************]  1 of 1 completed\n",
            "[*********************100%%**********************]  1 of 1 completed\n",
            "[*********************100%%**********************]  1 of 1 completed\n",
            "[*********************100%%**********************]  1 of 1 completed\n",
            "[*********************100%%**********************]  1 of 1 completed\n",
            "[*********************100%%**********************]  1 of 1 completed\n",
            "[*********************100%%**********************]  1 of 1 completed\n",
            "[*********************100%%**********************]  1 of 1 completed\n",
            "[*********************100%%**********************]  1 of 1 completed\n",
            "[*********************100%%**********************]  1 of 1 completed\n",
            "[*********************100%%**********************]  1 of 1 completed\n",
            "[*********************100%%**********************]  1 of 1 completed\n",
            "[*********************100%%**********************]  1 of 1 completed\n",
            "[*********************100%%**********************]  1 of 1 completed\n",
            "[*********************100%%**********************]  1 of 1 completed\n",
            "[*********************100%%**********************]  1 of 1 completed\n",
            "[*********************100%%**********************]  1 of 1 completed\n",
            "[*********************100%%**********************]  1 of 1 completed\n",
            "[*********************100%%**********************]  1 of 1 completed\n",
            "[*********************100%%**********************]  1 of 1 completed\n",
            "[*********************100%%**********************]  1 of 1 completed\n",
            "[*********************100%%**********************]  1 of 1 completed"
          ]
        },
        {
          "output_type": "stream",
          "name": "stdout",
          "text": [
            "Top 10 Momentum Stocks:\n",
            "           Symbol  Momentum Score\n",
            "25         IOC.NS      136.546922\n",
            "10   COALINDIA.NS      120.635815\n",
            "33        NTPC.NS      120.034045\n",
            "3   BAJAJ-AUTO.NS      116.619223\n",
            "42  TATAMOTORS.NS      113.922229\n",
            "0   ADANIPORTS.NS       98.000299\n",
            "7         BPCL.NS       92.097690\n",
            "35   POWERGRID.NS       88.817819\n",
            "34        ONGC.NS       87.094955\n",
            "19  HEROMOTOCO.NS       85.073857\n",
            "Top 10 bearish Stocks:\n",
            "           Symbol  Momentum Score\n",
            "48         UPL.NS      -31.259418\n",
            "28   KOTAKBANK.NS      -18.409619\n",
            "21  HINDUNILVR.NS       -9.928969\n",
            "17    HDFCBANK.NS       -8.952015\n",
            "1   ASIANPAINT.NS        2.189769\n",
            "18    HDFCLIFE.NS        3.692067\n",
            "39    SHREECEM.NS        8.213081\n",
            "26         ITC.NS        9.025838\n",
            "8    BRITANNIA.NS        9.630766\n",
            "5   BAJFINANCE.NS       17.311199\n"
          ]
        },
        {
          "output_type": "stream",
          "name": "stderr",
          "text": [
            "\n"
          ]
        }
      ],
      "source": [
        "import yfinance as yf\n",
        "import pandas as pd\n",
        "\n",
        "def get_nifty50_symbols():\n",
        "    # You can fetch Nifty 50 symbols from NSE or any other source\n",
        "    # For this example, I'll use a static list of symbols\n",
        "    return [\"ADANIPORTS.NS\", \"ASIANPAINT.NS\", \"AXISBANK.NS\", \"BAJAJ-AUTO.NS\", \"BAJAJFINSV.NS\",\n",
        "            \"BAJFINANCE.NS\", \"BHARTIARTL.NS\", \"BPCL.NS\", \"BRITANNIA.NS\", \"CIPLA.NS\", \"COALINDIA.NS\",\n",
        "            \"DIVISLAB.NS\", \"DRREDDY.NS\", \"EICHERMOT.NS\", \"GRASIM.NS\", \"HCLTECH.NS\", \"LICI.NS\",\n",
        "            \"HDFCBANK.NS\", \"HDFCLIFE.NS\", \"HEROMOTOCO.NS\", \"HINDALCO.NS\", \"HINDUNILVR.NS\",\n",
        "            \"ICICIBANK.NS\", \"INDUSINDBK.NS\", \"INFY.NS\", \"IOC.NS\", \"ITC.NS\", \"JSWSTEEL.NS\",\n",
        "            \"KOTAKBANK.NS\", \"LT.NS\", \"M&M.NS\", \"MARUTI.NS\", \"NESTLEIND.NS\", \"NTPC.NS\", \"ONGC.NS\",\n",
        "            \"POWERGRID.NS\", \"RELIANCE.NS\", \"SBILIFE.NS\", \"SBIN.NS\", \"SHREECEM.NS\", \"SUNPHARMA.NS\",\n",
        "            \"TATACONSUM.NS\", \"TATAMOTORS.NS\", \"TATASTEEL.NS\", \"TCS.NS\", \"TECHM.NS\", \"TITAN.NS\",\n",
        "            \"ULTRACEMCO.NS\", \"UPL.NS\", \"WIPRO.NS\"]\n",
        "\n",
        "def calculate_momentum(data):\n",
        "    data['1 Year % Change'] = (data['Adj Close'] - data['Adj Close'].shift(252)) / data['Adj Close'].shift(252) * 100\n",
        "    return data\n",
        "\n",
        "def main():\n",
        "    # Fetch historical data for Nifty 50 stocks\n",
        "    nifty200_symbols = get_nifty50_symbols()\n",
        "    nifty200_data = {}\n",
        "    for symbol in nifty200_symbols:\n",
        "        try:\n",
        "            stock_data = yf.download(symbol, start=\"2022-06-01\", end=\"2024-06-01\")\n",
        "            nifty200_data[symbol] = calculate_momentum(stock_data)\n",
        "        except Exception as e:\n",
        "            print(f\"Error fetching data for {symbol}: {e}\")\n",
        "\n",
        "    # Calculate momentum for each stock and select top 10\n",
        "    momentum_stocks = []\n",
        "    for symbol, data in nifty200_data.items():\n",
        "        momentum_score = data['1 Year % Change'].iloc[-1]\n",
        "        momentum_stocks.append({'Symbol': symbol, 'Momentum Score': momentum_score})\n",
        "\n",
        "    momentum_df = pd.DataFrame(momentum_stocks)\n",
        "    top_10_momentum_stocks = momentum_df.sort_values(by='Momentum Score', ascending=False).head(10)\n",
        "    top_10_bearish_stocks = momentum_df.sort_values(by='Momentum Score', ascending=True).head(10)\n",
        "\n",
        "    print(\"Top 10 Momentum Stocks:\")\n",
        "    print(top_10_momentum_stocks)\n",
        "    print(\"Top 10 bearish Stocks:\")\n",
        "    print(top_10_bearish_stocks)\n",
        "\n",
        "if __name__ == \"__main__\":\n",
        "    main()\n"
      ]
    }
  ]
}