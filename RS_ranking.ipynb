{
  "nbformat": 4,
  "nbformat_minor": 0,
  "metadata": {
    "colab": {
      "provenance": [],
      "authorship_tag": "ABX9TyPVpdcoWjO5jWww6uG9QAnf",
      "include_colab_link": true
    },
    "kernelspec": {
      "name": "python3",
      "display_name": "Python 3"
    },
    "language_info": {
      "name": "python"
    }
  },
  "cells": [
    {
      "cell_type": "markdown",
      "metadata": {
        "id": "view-in-github",
        "colab_type": "text"
      },
      "source": [
        "<a href=\"https://colab.research.google.com/github/Quantzaar/Strategy/blob/main/RS_ranking.ipynb\" target=\"_parent\"><img src=\"https://colab.research.google.com/assets/colab-badge.svg\" alt=\"Open In Colab\"/></a>"
      ]
    },
    {
      "cell_type": "code",
      "source": [
        "# part-1 : nifty200 ranking\n",
        "# part-2 : nifty500 ranking\n",
        "# part-3 : nifty500 ranking from a certain date"
      ],
      "metadata": {
        "id": "JFCj78oFIwpf"
      },
      "execution_count": 1,
      "outputs": []
    },
    {
      "cell_type": "code",
      "source": [
        "from google.colab import drive\n",
        "drive.mount('/content/drive')"
      ],
      "metadata": {
        "colab": {
          "base_uri": "https://localhost:8080/"
        },
        "id": "CWfispkRJJ8H",
        "outputId": "b697aa57-af2f-4993-ac56-48550eea9963"
      },
      "execution_count": 2,
      "outputs": [
        {
          "output_type": "stream",
          "name": "stdout",
          "text": [
            "Mounted at /content/drive\n"
          ]
        }
      ]
    },
    {
      "cell_type": "code",
      "source": [
        "import pandas as pd\n",
        "\n",
        "filepath = r\"/content/drive/MyDrive/Quantzaar-tradingS, InvestmentS, Trade&investMyTheory/Backtesting/ind_nifty500list.csv\"\n",
        "\n",
        "df=pd.read_csv(filepath)"
      ],
      "metadata": {
        "id": "nbb7uxIUJMj-"
      },
      "execution_count": 3,
      "outputs": []
    },
    {
      "cell_type": "code",
      "execution_count": 5,
      "metadata": {
        "id": "Z_qQkZUguqFc",
        "colab": {
          "base_uri": "https://localhost:8080/"
        },
        "outputId": "44f2832a-abd4-4026-f7c2-b0149d6ed462"
      },
      "outputs": [
        {
          "output_type": "stream",
          "name": "stdout",
          "text": [
            "0          360ONE.NS\n",
            "1         3MINDIA.NS\n",
            "2             ABB.NS\n",
            "3             ACC.NS\n",
            "4          AIAENG.NS\n",
            "           ...      \n",
            "498          ZEEL.NS\n",
            "499    ZENSARTECH.NS\n",
            "500        ZOMATO.NS\n",
            "501     ZYDUSLIFE.NS\n",
            "502        ECLERX.NS\n",
            "Name: Symbol, Length: 503, dtype: object\n"
          ]
        }
      ],
      "source": [
        "import yfinance as yf\n",
        "import pandas as pd\n",
        "\n",
        "stocks = df.Symbol + '.NS'\n",
        "print(stocks)"
      ]
    },
    {
      "cell_type": "code",
      "source": [
        "# Download historical data\n",
        "df500 = yf.download(stocks.to_list(), start='2022-08-01')['Adj Close']\n",
        "\n",
        "# Download historical data for NIFTY 50 index\n",
        "nifty50 = yf.download('^NSEI', start='2022-01-01')['Adj Close']\n"
      ],
      "metadata": {
        "colab": {
          "base_uri": "https://localhost:8080/"
        },
        "id": "L1OuTVxrMXKc",
        "outputId": "6aea6906-b415-416a-9989-980ecce508a4"
      },
      "execution_count": 13,
      "outputs": [
        {
          "output_type": "stream",
          "name": "stderr",
          "text": [
            "[*********************100%%**********************]  503 of 503 completed\n",
            "ERROR:yfinance:\n",
            "2 Failed downloads:\n",
            "ERROR:yfinance:['DUMMYSANOF.NS', 'DUMMYRAYMD.NS']: YFTzMissingError('$%ticker%: possibly delisted; No timezone found')\n",
            "[*********************100%%**********************]  1 of 1 completed\n"
          ]
        }
      ]
    },
    {
      "cell_type": "code",
      "source": [
        "# nifty200 = yf.download('^CNX200', start='2022-01-01')['Adj Close']\n",
        "nifty500 = yf.download('^CRSLDX', start='2022-01-01')['Adj Close']"
      ],
      "metadata": {
        "colab": {
          "base_uri": "https://localhost:8080/"
        },
        "id": "NcO0HnjrKg41",
        "outputId": "91db089b-3e11-47cd-87b5-01623d3e8335"
      },
      "execution_count": 16,
      "outputs": [
        {
          "output_type": "stream",
          "name": "stderr",
          "text": [
            "\r[*********************100%%**********************]  1 of 1 completed\n"
          ]
        }
      ]
    },
    {
      "cell_type": "code",
      "source": [
        "lookback_period=123\n",
        "\n",
        "# Calculate returns for the lookback period\n",
        "stock_return = df500.iloc[-1] / df500.iloc[-lookback_period]\n",
        "index_return = nifty50.iloc[-1] / nifty50.iloc[-lookback_period]\n",
        "\n",
        "# Calculate RS values as the ratio of returns minus 1\n",
        "rs_values = stock_return / index_return - 1\n",
        "\n",
        "# Rank the stocks based on RS\n",
        "rs_ranking = rs_values.sort_values(ascending=False)\n",
        "\n",
        "print(\"Top NIFTY 500 Stocks by Relative Strength (RS):\")\n",
        "print(rs_ranking)\n",
        "\n",
        "# Save the ranking to a CSV file\n",
        "# save_ranking_to_csv(nifty50_ranking, \"nifty50_rs_ranking.csv\")\n",
        "\n",
        "filepath = r\"/content/drive/MyDrive/Quantzaar-tradingS, InvestmentS, Trade&investMyTheory/Backtesting/nifty500_rs_ranking.csv\"\n",
        "\n",
        "rs_ranking.to_csv(filepath, header=[\"Relative Strength\"], index_label=\"Stock\")\n"
      ],
      "metadata": {
        "colab": {
          "base_uri": "https://localhost:8080/"
        },
        "id": "9GBTZ3Hz0kF3",
        "outputId": "aca1abf6-756e-470c-b434-863f769748fe"
      },
      "execution_count": 17,
      "outputs": [
        {
          "output_type": "stream",
          "name": "stdout",
          "text": [
            "Top NIFTY 500 Stocks by Relative Strength (RS):\n",
            "Ticker\n",
            "COCHINSHIP.NS    1.453693\n",
            "GRSE.NS          1.241452\n",
            "MAZDOCK.NS       1.001732\n",
            "OIL.NS           0.857054\n",
            "POWERINDIA.NS    0.852666\n",
            "                   ...   \n",
            "SPARC.NS        -0.464196\n",
            "AEGISLOG.NS           NaN\n",
            "DUMMYRAYMD.NS         NaN\n",
            "DUMMYSANOF.NS         NaN\n",
            "UNITDSPR.NS           NaN\n",
            "Length: 503, dtype: float64\n"
          ]
        }
      ]
    },
    {
      "cell_type": "code",
      "source": [
        "lookback_period=123\n",
        "\n",
        "# Calculate returns for the lookback period\n",
        "stock_return = df500.iloc[-1] / df500.iloc[-lookback_period]\n",
        "index_return500 = nifty500.iloc[-1] / nifty500.iloc[-lookback_period]\n",
        "\n",
        "# Calculate RS values as the ratio of returns minus 1\n",
        "rs_values = stock_return / index_return500 - 1\n",
        "\n",
        "# Rank the stocks based on RS\n",
        "rs_ranking500 = rs_values.sort_values(ascending=False)\n",
        "\n",
        "print(\"Top NIFTY 500 Stocks by Relative Strength (RS):\")\n",
        "print(rs_ranking500)\n",
        "\n",
        "# Save the ranking to a CSV file\n",
        "# save_ranking_to_csv(nifty50_ranking, \"nifty50_rs_ranking.csv\")\n",
        "\n",
        "filepath = r\"/content/drive/MyDrive/Quantzaar-tradingS, InvestmentS, Trade&investMyTheory/Backtesting/nifty500_rs_ranking500.csv\"\n",
        "\n",
        "rs_ranking500.to_csv(filepath, header=[\"Relative Strength\"], index_label=\"Stock\")\n"
      ],
      "metadata": {
        "colab": {
          "base_uri": "https://localhost:8080/"
        },
        "id": "2ahHFuQ6T7S4",
        "outputId": "5798e359-3bf1-4268-b9dd-22ce56dfad3d"
      },
      "execution_count": 18,
      "outputs": [
        {
          "output_type": "stream",
          "name": "stdout",
          "text": [
            "Top NIFTY 500 Stocks by Relative Strength (RS):\n",
            "Ticker\n",
            "COCHINSHIP.NS    1.379750\n",
            "GRSE.NS          1.173905\n",
            "MAZDOCK.NS       0.941409\n",
            "OIL.NS           0.801091\n",
            "POWERINDIA.NS    0.796835\n",
            "                   ...   \n",
            "SPARC.NS        -0.480342\n",
            "AEGISLOG.NS           NaN\n",
            "DUMMYRAYMD.NS         NaN\n",
            "DUMMYSANOF.NS         NaN\n",
            "UNITDSPR.NS           NaN\n",
            "Length: 503, dtype: float64\n"
          ]
        }
      ]
    },
    {
      "cell_type": "code",
      "source": [
        "# calculate RS value from a particular event date\n",
        "# event: election 4june2024, 24july2024"
      ],
      "metadata": {
        "id": "tsMMZm8LUd5K"
      },
      "execution_count": 19,
      "outputs": []
    },
    {
      "cell_type": "code",
      "source": [
        "from datetime import datetime, timedelta\n",
        "\n",
        "# Current date for calculating RS ranking\n",
        "current_date = '2024-08-02'  # Example current date\n",
        "reference_date='2024-06-04'\n",
        "\n",
        "# Convert dates to datetime\n",
        "current_date = datetime.strptime(current_date, '%Y-%m-%d')\n",
        "reference_date = datetime.strptime(reference_date, '%Y-%m-%d')\n",
        "\n",
        "# Ensure that the reference date is before the current date\n",
        "if reference_date >= current_date:\n",
        "    raise ValueError(\"Reference date must be before the current date.\")\n",
        "\n",
        "start_date = reference_date - timedelta(days=10)  # Fetch enough data to ensure the reference date is covered\n",
        "\n",
        "# Ensure data includes the reference date and current date\n",
        "if reference_date not in df500.index or current_date not in df500.index:\n",
        "    raise ValueError(\"Stock data does not include the reference date or the current date.\")\n",
        "\n",
        "if reference_date not in nifty50.index or current_date not in nifty50.index:\n",
        "    raise ValueError(\"Index data does not include the reference date or the current date.\")\n",
        "\n",
        "# Calculate stock ratios and index ratio\n",
        "stock_ratio = df500.loc[current_date] / df500.loc[reference_date]\n",
        "index_ratio = nifty50.loc[current_date] / nifty50.loc[reference_date]\n",
        "\n",
        "# Calculate RS values as the ratio of stock ratios to index ratio\n",
        "rs_values = stock_ratio / index_ratio - 1\n",
        "\n",
        "# Rank the stocks based on RS\n",
        "rs_ranking_event = rs_values.sort_values(ascending=False)\n",
        "\n",
        "\n",
        "print(\"\\nTop NIFTY 500 Stocks by Relative Strength (RS) from date:{}\",reference_date)\n",
        "print(rs_ranking_event)\n",
        "\n",
        "filepath = r\"/content/drive/MyDrive/Quantzaar-tradingS, InvestmentS, Trade&investMyTheory/Backtesting/nifty500_rs_ranking_event.csv\"\n",
        "\n",
        "rs_ranking_event.to_csv(filepath, header=[\"Relative Strength\"], index_label=\"Stock\")\n",
        "\n"
      ],
      "metadata": {
        "colab": {
          "base_uri": "https://localhost:8080/"
        },
        "id": "bmYIkcu8Vhal",
        "outputId": "3a72eaa5-59c8-4fff-bef4-fee61c33e142"
      },
      "execution_count": 22,
      "outputs": [
        {
          "output_type": "stream",
          "name": "stdout",
          "text": [
            "\n",
            "Top NIFTY 500 Stocks by Relative Strength (RS) from date:{} 2024-06-04 00:00:00\n",
            "Ticker\n",
            "INDIACEM.NS      0.783458\n",
            "MAZDOCK.NS       0.683721\n",
            "GRSE.NS          0.614800\n",
            "DEEPAKFERT.NS    0.614157\n",
            "PCBL.NS          0.545618\n",
            "                   ...   \n",
            "RHIM.NS         -0.220128\n",
            "POONAWALLA.NS   -0.241344\n",
            "SANOFI.NS       -0.322993\n",
            "DUMMYRAYMD.NS         NaN\n",
            "DUMMYSANOF.NS         NaN\n",
            "Length: 503, dtype: float64\n"
          ]
        }
      ]
    }
  ]
}