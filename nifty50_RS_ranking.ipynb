{
  "nbformat": 4,
  "nbformat_minor": 0,
  "metadata": {
    "colab": {
      "provenance": [],
      "authorship_tag": "ABX9TyMM8k0IF2qiDBhiqaNCdMQ7",
      "include_colab_link": true
    },
    "kernelspec": {
      "name": "python3",
      "display_name": "Python 3"
    },
    "language_info": {
      "name": "python"
    }
  },
  "cells": [
    {
      "cell_type": "markdown",
      "metadata": {
        "id": "view-in-github",
        "colab_type": "text"
      },
      "source": [
        "<a href=\"https://colab.research.google.com/github/Quantzaar/Strategy/blob/main/nifty50_RS_ranking.ipynb\" target=\"_parent\"><img src=\"https://colab.research.google.com/assets/colab-badge.svg\" alt=\"Open In Colab\"/></a>"
      ]
    },
    {
      "cell_type": "code",
      "source": [
        "from google.colab import drive\n",
        "drive.mount('/content/drive')"
      ],
      "metadata": {
        "colab": {
          "base_uri": "https://localhost:8080/"
        },
        "id": "Y_i_k-8AIXj3",
        "outputId": "05621fcc-e7c0-4653-970f-b81eca45bd89"
      },
      "execution_count": 4,
      "outputs": [
        {
          "output_type": "stream",
          "name": "stdout",
          "text": [
            "Mounted at /content/drive\n"
          ]
        }
      ]
    },
    {
      "cell_type": "code",
      "execution_count": 5,
      "metadata": {
        "colab": {
          "base_uri": "https://localhost:8080/"
        },
        "id": "ETWvp9vEuhqV",
        "outputId": "429357b2-7897-4fbe-9a0f-74dcb43e1e2b"
      },
      "outputs": [
        {
          "output_type": "stream",
          "name": "stdout",
          "text": [
            "Downloading data for NIFTY 50 stocks...\n"
          ]
        },
        {
          "output_type": "stream",
          "name": "stderr",
          "text": [
            "[*********************100%%**********************]  50 of 50 completed\n",
            "[*********************100%%**********************]  1 of 1 completed\n"
          ]
        },
        {
          "output_type": "stream",
          "name": "stdout",
          "text": [
            "Downloading data for NIFTY 50 index...\n",
            "\n",
            "Top NIFTY 50 Stocks by Relative Strength (RS):\n",
            "Ticker\n",
            "M&M.NS           0.472515\n",
            "DIVISLAB.NS      0.205959\n",
            "POWERGRID.NS     0.202909\n",
            "BPCL.NS          0.198497\n",
            "ONGC.NS          0.187184\n",
            "SBIN.NS          0.168428\n",
            "NTPC.NS          0.155324\n",
            "ADANIPORTS.NS    0.148577\n",
            "COALINDIA.NS     0.145107\n",
            "BHARTIARTL.NS    0.139049\n",
            "GRASIM.NS        0.116253\n",
            "LICI.NS          0.115327\n",
            "BAJAJ-AUTO.NS    0.111557\n",
            "TATAMOTORS.NS    0.099170\n",
            "SUNPHARMA.NS     0.089224\n",
            "IOC.NS           0.082692\n",
            "SBILIFE.NS       0.070977\n",
            "HDFCLIFE.NS      0.061275\n",
            "MARUTI.NS        0.060062\n",
            "EICHERMOT.NS     0.054903\n",
            "TATASTEEL.NS     0.051079\n",
            "ULTRACEMCO.NS    0.046959\n",
            "TECHM.NS         0.027043\n",
            "DRREDDY.NS       0.026072\n",
            "ICICIBANK.NS     0.024576\n",
            "HEROMOTOCO.NS    0.022276\n",
            "HDFCBANK.NS      0.006790\n",
            "ITC.NS           0.001060\n",
            "HINDALCO.NS     -0.004175\n",
            "JSWSTEEL.NS     -0.007335\n",
            "TCS.NS          -0.015133\n",
            "CIPLA.NS        -0.024700\n",
            "BRITANNIA.NS    -0.024709\n",
            "INFY.NS         -0.029795\n",
            "HINDUNILVR.NS   -0.035181\n",
            "LT.NS           -0.045590\n",
            "AXISBANK.NS     -0.059449\n",
            "ASIANPAINT.NS   -0.060038\n",
            "WIPRO.NS        -0.064830\n",
            "TATACONSUM.NS   -0.066063\n",
            "RELIANCE.NS     -0.077473\n",
            "HCLTECH.NS      -0.085456\n",
            "NESTLEIND.NS    -0.106114\n",
            "UPL.NS          -0.109686\n",
            "BAJFINANCE.NS   -0.120177\n",
            "BAJAJFINSV.NS   -0.120986\n",
            "KOTAKBANK.NS    -0.130532\n",
            "TITAN.NS        -0.159401\n",
            "SHREECEM.NS     -0.187865\n",
            "INDUSINDBK.NS   -0.191257\n",
            "dtype: float64\n"
          ]
        }
      ],
      "source": [
        "import yfinance as yf\n",
        "import pandas as pd\n",
        "import numpy as np\n",
        "\n",
        "def get_nifty50_symbols():\n",
        "    # You can fetch Nifty 50 symbols from NSE or any other source\n",
        "    # For this example, I'll use a static list of symbols\n",
        "    return [\"ADANIPORTS.NS\", \"ASIANPAINT.NS\", \"AXISBANK.NS\", \"BAJAJ-AUTO.NS\", \"BAJAJFINSV.NS\",\n",
        "            \"BAJFINANCE.NS\", \"BHARTIARTL.NS\", \"BPCL.NS\", \"BRITANNIA.NS\", \"CIPLA.NS\", \"COALINDIA.NS\",\n",
        "            \"DIVISLAB.NS\", \"DRREDDY.NS\", \"EICHERMOT.NS\", \"GRASIM.NS\", \"HCLTECH.NS\", \"LICI.NS\",\n",
        "            \"HDFCBANK.NS\", \"HDFCLIFE.NS\", \"HEROMOTOCO.NS\", \"HINDALCO.NS\", \"HINDUNILVR.NS\",\n",
        "            \"ICICIBANK.NS\", \"INDUSINDBK.NS\", \"INFY.NS\", \"IOC.NS\", \"ITC.NS\", \"JSWSTEEL.NS\",\n",
        "            \"KOTAKBANK.NS\", \"LT.NS\", \"M&M.NS\", \"MARUTI.NS\", \"NESTLEIND.NS\", \"NTPC.NS\", \"ONGC.NS\",\n",
        "            \"POWERGRID.NS\", \"RELIANCE.NS\", \"SBILIFE.NS\", \"SBIN.NS\", \"SHREECEM.NS\", \"SUNPHARMA.NS\",\n",
        "            \"TATACONSUM.NS\", \"TATAMOTORS.NS\", \"TATASTEEL.NS\", \"TCS.NS\", \"TECHM.NS\", \"TITAN.NS\",\n",
        "            \"ULTRACEMCO.NS\", \"UPL.NS\", \"WIPRO.NS\"]\n",
        "\n",
        "\n",
        "# Function to download and process stock data for NIFTY 50\n",
        "def get_nifty50_data(start_date, lookback_period=123):\n",
        "    # Get NIFTY 50 stock symbols\n",
        "    # nifty50_symbols = pd.read_html('https://en.wikipedia.org/wiki/NIFTY_50')[2]['Symbol']\n",
        "    # nifty50_symbols = nifty50_symbols + '.NS'\n",
        "    nifty50_symbols = get_nifty50_symbols()\n",
        "\n",
        "    # Download historical data for NIFTY 50 stocks\n",
        "    print(\"Downloading data for NIFTY 50 stocks...\")\n",
        "    stocks_data = yf.download(nifty50_symbols, start=start_date)['Adj Close']\n",
        "\n",
        "    # Download historical data for NIFTY 50 index\n",
        "    print(\"Downloading data for NIFTY 50 index...\")\n",
        "    index_data = yf.download('^NSEI', start=start_date)['Adj Close']\n",
        "\n",
        "    # Calculate returns for the lookback period\n",
        "    stock_return = stocks_data.iloc[-1] / stocks_data.iloc[-lookback_period]\n",
        "    index_return = index_data.iloc[-1] / index_data.iloc[-lookback_period]\n",
        "\n",
        "    # Calculate RS values as the ratio of returns minus 1\n",
        "    rs_values = stock_return / index_return - 1\n",
        "\n",
        "    # Rank the stocks based on RS\n",
        "    rs_ranking = rs_values.sort_values(ascending=False)\n",
        "\n",
        "    return rs_ranking\n",
        "\n",
        "# Function to save the ranking to a CSV file\n",
        "def save_ranking_to_csv(ranking, file_name):\n",
        "    ranking.to_csv(file_name, header=[\"Relative Strength\"], index_label=\"Stock\")\n",
        "    print(f\"Saved ranking to {file_name}\")\n",
        "\n",
        "# Start date for downloading historical data\n",
        "start_date = '2022-01-01'\n",
        "\n",
        "# Calculate RS ranking for NIFTY 50 stocks\n",
        "nifty50_ranking = get_nifty50_data(start_date)\n",
        "print(\"\\nTop NIFTY 50 Stocks by Relative Strength (RS):\")\n",
        "print(nifty50_ranking)\n",
        "\n",
        "# Save the ranking to a CSV file\n",
        "# save_ranking_to_csv(nifty50_ranking, \"nifty50_rs_ranking.csv\")\n",
        "\n",
        "filepath = r\"/content/drive/MyDrive/Quantzaar-tradingS, InvestmentS, Trade&investMyTheory/Backtesting/nifty50_rs_ranking.csv\"\n",
        "\n",
        "nifty50_ranking.to_csv(filepath, header=[\"Relative Strength\"], index_label=\"Stock\")\n",
        "\n"
      ]
    },
    {
      "cell_type": "code",
      "source": [],
      "metadata": {
        "id": "HaA23SOb6v9Y"
      },
      "execution_count": null,
      "outputs": []
    }
  ]
}