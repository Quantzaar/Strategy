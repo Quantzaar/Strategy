{
  "nbformat": 4,
  "nbformat_minor": 0,
  "metadata": {
    "colab": {
      "provenance": [],
      "authorship_tag": "ABX9TyORMaTcvsYZYTIxwLfwmOP3",
      "include_colab_link": true
    },
    "kernelspec": {
      "name": "python3",
      "display_name": "Python 3"
    },
    "language_info": {
      "name": "python"
    }
  },
  "cells": [
    {
      "cell_type": "markdown",
      "metadata": {
        "id": "view-in-github",
        "colab_type": "text"
      },
      "source": [
        "<a href=\"https://colab.research.google.com/github/Quantzaar/Strategy/blob/main/nifty50_RS_ranking.ipynb\" target=\"_parent\"><img src=\"https://colab.research.google.com/assets/colab-badge.svg\" alt=\"Open In Colab\"/></a>"
      ]
    },
    {
      "cell_type": "code",
      "execution_count": 3,
      "metadata": {
        "colab": {
          "base_uri": "https://localhost:8080/"
        },
        "id": "ETWvp9vEuhqV",
        "outputId": "96dd3c3e-145a-4f28-eefa-6146417ea2b6"
      },
      "outputs": [
        {
          "output_type": "stream",
          "name": "stderr",
          "text": [
            "[*********************100%%**********************]  50 of 50 completed\n",
            "[*********************100%%**********************]  1 of 1 completed\n"
          ]
        },
        {
          "output_type": "stream",
          "name": "stdout",
          "text": [
            "Top NIFTY 50 Stocks by Relative Strength (RS):\n",
            "Ticker\n",
            "M&M.NS           4.678069\n",
            "POWERGRID.NS     2.744263\n",
            "SBIN.NS          2.464280\n",
            "DIVISLAB.NS      2.425309\n",
            "ONGC.NS          2.414882\n",
            "BPCL.NS          2.373599\n",
            "COALINDIA.NS     2.207892\n",
            "NTPC.NS          2.192894\n",
            "MARUTI.NS        2.191889\n",
            "ADANIPORTS.NS    2.128205\n",
            "EICHERMOT.NS     2.104814\n",
            "TATAMOTORS.NS    2.076403\n",
            "GRASIM.NS        1.859392\n",
            "BHARTIARTL.NS    1.846706\n",
            "BAJAJ-AUTO.NS    1.828874\n",
            "LICI.NS          1.700953\n",
            "IOC.NS           1.651606\n",
            "SBILIFE.NS       1.637801\n",
            "SUNPHARMA.NS     1.613102\n",
            "HDFCLIFE.NS      1.513011\n",
            "TATASTEEL.NS     1.449272\n",
            "ULTRACEMCO.NS    1.295233\n",
            "TECHM.NS         1.194664\n",
            "ICICIBANK.NS     1.172026\n",
            "DRREDDY.NS       1.148867\n",
            "HEROMOTOCO.NS    1.145630\n",
            "CIPLA.NS         1.134518\n",
            "HINDALCO.NS      1.129748\n",
            "TCS.NS           1.036870\n",
            "ITC.NS           1.010940\n",
            "JSWSTEEL.NS      0.986652\n",
            "HDFCBANK.NS      0.926334\n",
            "INFY.NS          0.790389\n",
            "BRITANNIA.NS     0.773453\n",
            "HINDUNILVR.NS    0.710960\n",
            "AXISBANK.NS      0.697037\n",
            "WIPRO.NS         0.640391\n",
            "TATACONSUM.NS    0.515207\n",
            "RELIANCE.NS      0.471885\n",
            "HCLTECH.NS       0.459005\n",
            "ASIANPAINT.NS    0.365941\n",
            "LT.NS            0.298332\n",
            "UPL.NS           0.290437\n",
            "BAJAJFINSV.NS    0.175623\n",
            "NESTLEIND.NS     0.024173\n",
            "BAJFINANCE.NS   -0.010457\n",
            "SHREECEM.NS     -0.045013\n",
            "KOTAKBANK.NS    -0.098052\n",
            "INDUSINDBK.NS   -0.342101\n",
            "TITAN.NS        -0.422822\n",
            "Name: 2024-08-01 00:00:00, dtype: float64\n"
          ]
        }
      ],
      "source": [
        "import yfinance as yf\n",
        "import pandas as pd\n",
        "import numpy as np\n",
        "\n",
        "def get_nifty50_symbols():\n",
        "    # You can fetch Nifty 50 symbols from NSE or any other source\n",
        "    # For this example, I'll use a static list of symbols\n",
        "    return [\"ADANIPORTS.NS\", \"ASIANPAINT.NS\", \"AXISBANK.NS\", \"BAJAJ-AUTO.NS\", \"BAJAJFINSV.NS\",\n",
        "            \"BAJFINANCE.NS\", \"BHARTIARTL.NS\", \"BPCL.NS\", \"BRITANNIA.NS\", \"CIPLA.NS\", \"COALINDIA.NS\",\n",
        "            \"DIVISLAB.NS\", \"DRREDDY.NS\", \"EICHERMOT.NS\", \"GRASIM.NS\", \"HCLTECH.NS\", \"LICI.NS\",\n",
        "            \"HDFCBANK.NS\", \"HDFCLIFE.NS\", \"HEROMOTOCO.NS\", \"HINDALCO.NS\", \"HINDUNILVR.NS\",\n",
        "            \"ICICIBANK.NS\", \"INDUSINDBK.NS\", \"INFY.NS\", \"IOC.NS\", \"ITC.NS\", \"JSWSTEEL.NS\",\n",
        "            \"KOTAKBANK.NS\", \"LT.NS\", \"M&M.NS\", \"MARUTI.NS\", \"NESTLEIND.NS\", \"NTPC.NS\", \"ONGC.NS\",\n",
        "            \"POWERGRID.NS\", \"RELIANCE.NS\", \"SBILIFE.NS\", \"SBIN.NS\", \"SHREECEM.NS\", \"SUNPHARMA.NS\",\n",
        "            \"TATACONSUM.NS\", \"TATAMOTORS.NS\", \"TATASTEEL.NS\", \"TCS.NS\", \"TECHM.NS\", \"TITAN.NS\",\n",
        "            \"ULTRACEMCO.NS\", \"UPL.NS\", \"WIPRO.NS\"]\n",
        "\n",
        "\n",
        "\n",
        "# Get NIFTY 50 stock symbols\n",
        "# nifty50_stocks = pd.read_html('https://en.wikipedia.org/wiki/NIFTY_50')[2]['Symbol']\n",
        "# nifty50_stocks = nifty50_stocks + '.NS'\n",
        "nifty50_stocks = get_nifty50_symbols()\n",
        "\n",
        "# Download historical data for NIFTY 50 stocks\n",
        "stocks_data = yf.download(nifty50_stocks, start='2022-01-01')['Adj Close']\n",
        "\n",
        "# Download historical data for NIFTY 50 index\n",
        "nifty_index = yf.download('^NSEI', start='2022-01-01')['Adj Close']\n",
        "\n",
        "# Calculate the percentage change for the last 123 days\n",
        "stock_returns = stocks_data.pct_change(123).iloc[-1]\n",
        "nifty_return = nifty_index.pct_change(123).iloc[-1]\n",
        "\n",
        "# Calculate the RS for each stock\n",
        "rs_values = stock_returns / nifty_return\n",
        "\n",
        "# Rank the stocks based on RS\n",
        "rs_ranking = rs_values.sort_values(ascending=False)\n",
        "\n",
        "print(\"Top NIFTY 50 Stocks by Relative Strength (RS):\")\n",
        "print(rs_ranking)\n",
        "\n"
      ]
    },
    {
      "cell_type": "code",
      "source": [],
      "metadata": {
        "id": "HaA23SOb6v9Y"
      },
      "execution_count": null,
      "outputs": []
    }
  ]
}